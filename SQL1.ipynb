{
  "nbformat": 4,
  "nbformat_minor": 0,
  "metadata": {
    "colab": {
      "name": "SQL1.ipynb",
      "provenance": [],
      "authorship_tag": "ABX9TyNR/bq3m0CUSLJZnbhC6+0/",
      "include_colab_link": true
    },
    "kernelspec": {
      "name": "python3",
      "display_name": "Python 3"
    },
    "language_info": {
      "name": "python"
    }
  },
  "cells": [
    {
      "cell_type": "markdown",
      "metadata": {
        "id": "view-in-github",
        "colab_type": "text"
      },
      "source": [
        "<a href=\"https://colab.research.google.com/github/Prashantlondhe123/BIG-DATA-SQL/blob/main/SQL1.ipynb\" target=\"_parent\"><img src=\"https://colab.research.google.com/assets/colab-badge.svg\" alt=\"Open In Colab\"/></a>"
      ]
    },
    {
      "cell_type": "markdown",
      "source": [
        "## SQL Tutorial"
      ],
      "metadata": {
        "id": "dVN_vqirCc75"
      }
    },
    {
      "cell_type": "markdown",
      "source": [
        "- SQL is a standard language for storing, manipulating and retrieving data in databases.\n",
        "\n",
        "- SQL is a standard language for accessing and manipulating databases."
      ],
      "metadata": {
        "id": "AVAqGMyGCmsW"
      }
    },
    {
      "cell_type": "markdown",
      "source": [
        "## What is SQL?"
      ],
      "metadata": {
        "id": "-aRwo-wkC_bH"
      }
    },
    {
      "cell_type": "markdown",
      "source": [
        "- SQL stands for Structured Query Language\n",
        "- SQL lets you access and manipulate databases\n",
        "- SQL became a standard of the American National Standards Institute (ANSI) in 1986, and of the International Organization for Standardization (ISO) in 1987"
      ],
      "metadata": {
        "id": "mOufwkwYDRqu"
      }
    },
    {
      "cell_type": "markdown",
      "source": [
        "## What Can SQL do?\n"
      ],
      "metadata": {
        "id": "rqg2Bsp4DgUJ"
      }
    },
    {
      "cell_type": "markdown",
      "source": [
        "- SQL can execute queries against a database\n",
        "- SQL can retrieve data from a database\n",
        "- SQL can insert records in a database\n",
        "- SQL can update records in a database\n",
        "- SQL can delete records from a database\n",
        "- SQL can create new databases\n",
        "- SQL can create new tables in a database\n",
        "- SQL can create stored procedures in a database\n",
        "- SQL can create views in a database\n",
        "- SQL can set permissions on tables, procedures, and views\n"
      ],
      "metadata": {
        "id": "Vk5ECxXvDyJr"
      }
    },
    {
      "cell_type": "code",
      "execution_count": null,
      "metadata": {
        "id": "GcbjECJyCU0d"
      },
      "outputs": [],
      "source": [
        ""
      ]
    }
  ]
}